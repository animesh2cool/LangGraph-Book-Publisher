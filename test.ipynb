{
 "cells": [
  {
   "cell_type": "code",
   "execution_count": null,
   "id": "5766b5aa",
   "metadata": {},
   "outputs": [
    {
     "name": "stdout",
     "output_type": "stream",
     "text": [
      "API Key: AIzaSy...\n",
      "Several options, depending on the level of formality and the relationship with the person greeted:\n",
      "\n",
      "* **Formal:**  \"Greetings!\" or \"Good morrow!\" (Good morning) or \"Good even!\" (Good evening)\n",
      "\n",
      "* **Informal:** \"What ho!\" or \"Well met!\"\n",
      "\n",
      "\n",
      "The best choice depends on context.  \"Greetings!\" is a safe and versatile option.\n",
      "\n"
     ]
    }
   ],
   "source": [
    "# test dotenv and google.generativeai\n",
    "import os\n",
    "from dotenv import load_dotenv\n",
    "import google.generativeai as genai\n",
    "\n",
    "load_dotenv()\n",
    "api_key = os.getenv(\"GOOGLE_API_KEY\")\n",
    "print(f\"API Key: {api_key[:6]}...\")  # Should print partial key\n",
    "\n",
    "genai.configure(api_key=api_key)\n",
    "model = genai.GenerativeModel(\"gemini-1.5-flash\")\n",
    "response = model.generate_content(\"Say hello in Shakespearean English.\")\n",
    "print(response.text)\n"
   ]
  },
  {
   "cell_type": "code",
   "execution_count": null,
   "id": "e798c47e",
   "metadata": {},
   "outputs": [
    {
     "data": {
      "application/vnd.jupyter.widget-view+json": {
       "model_id": "5ed487deb86f45d694ba92661800b450",
       "version_major": 2,
       "version_minor": 0
      },
      "text/plain": [
       "modules.json:   0%|          | 0.00/349 [00:00<?, ?B/s]"
      ]
     },
     "metadata": {},
     "output_type": "display_data"
    },
    {
     "name": "stderr",
     "output_type": "stream",
     "text": [
      "c:\\Users\\Debasmita\\anaconda3\\Lib\\site-packages\\huggingface_hub\\file_download.py:144: UserWarning: `huggingface_hub` cache-system uses symlinks by default to efficiently store duplicated files but your machine does not support them in C:\\Users\\Debasmita\\.cache\\huggingface\\hub\\models--sentence-transformers--all-MiniLM-L6-v2. Caching files will still work but in a degraded version that might require more space on your disk. This warning can be disabled by setting the `HF_HUB_DISABLE_SYMLINKS_WARNING` environment variable. For more details, see https://huggingface.co/docs/huggingface_hub/how-to-cache#limitations.\n",
      "To support symlinks on Windows, you either need to activate Developer Mode or to run Python as an administrator. In order to activate developer mode, see this article: https://docs.microsoft.com/en-us/windows/apps/get-started/enable-your-device-for-development\n",
      "  warnings.warn(message)\n"
     ]
    },
    {
     "data": {
      "application/vnd.jupyter.widget-view+json": {
       "model_id": "f91c22f925b646869b60380f766e9216",
       "version_major": 2,
       "version_minor": 0
      },
      "text/plain": [
       "config_sentence_transformers.json:   0%|          | 0.00/116 [00:00<?, ?B/s]"
      ]
     },
     "metadata": {},
     "output_type": "display_data"
    },
    {
     "data": {
      "application/vnd.jupyter.widget-view+json": {
       "model_id": "31cf8db8d588469c9151ccea8c767cbf",
       "version_major": 2,
       "version_minor": 0
      },
      "text/plain": [
       "README.md: 0.00B [00:00, ?B/s]"
      ]
     },
     "metadata": {},
     "output_type": "display_data"
    },
    {
     "data": {
      "application/vnd.jupyter.widget-view+json": {
       "model_id": "ae56d85e1eef4446a10e9f1b98e9c47b",
       "version_major": 2,
       "version_minor": 0
      },
      "text/plain": [
       "sentence_bert_config.json:   0%|          | 0.00/53.0 [00:00<?, ?B/s]"
      ]
     },
     "metadata": {},
     "output_type": "display_data"
    },
    {
     "data": {
      "application/vnd.jupyter.widget-view+json": {
       "model_id": "61aaf9031970472884a9036a93bd84c2",
       "version_major": 2,
       "version_minor": 0
      },
      "text/plain": [
       "config.json:   0%|          | 0.00/612 [00:00<?, ?B/s]"
      ]
     },
     "metadata": {},
     "output_type": "display_data"
    },
    {
     "name": "stderr",
     "output_type": "stream",
     "text": [
      "Xet Storage is enabled for this repo, but the 'hf_xet' package is not installed. Falling back to regular HTTP download. For better performance, install the package with: `pip install huggingface_hub[hf_xet]` or `pip install hf_xet`\n"
     ]
    },
    {
     "data": {
      "application/vnd.jupyter.widget-view+json": {
       "model_id": "2ed3be246b784cfc8b8c2bc8f0f1a880",
       "version_major": 2,
       "version_minor": 0
      },
      "text/plain": [
       "model.safetensors:   0%|          | 0.00/90.9M [00:00<?, ?B/s]"
      ]
     },
     "metadata": {},
     "output_type": "display_data"
    },
    {
     "data": {
      "application/vnd.jupyter.widget-view+json": {
       "model_id": "e99988b511984d03a8c22101edba271d",
       "version_major": 2,
       "version_minor": 0
      },
      "text/plain": [
       "tokenizer_config.json:   0%|          | 0.00/350 [00:00<?, ?B/s]"
      ]
     },
     "metadata": {},
     "output_type": "display_data"
    },
    {
     "data": {
      "application/vnd.jupyter.widget-view+json": {
       "model_id": "67b5d33a46bb48e880bdedd063a6468d",
       "version_major": 2,
       "version_minor": 0
      },
      "text/plain": [
       "vocab.txt: 0.00B [00:00, ?B/s]"
      ]
     },
     "metadata": {},
     "output_type": "display_data"
    },
    {
     "data": {
      "application/vnd.jupyter.widget-view+json": {
       "model_id": "bd340378da0244d6a980ab9f0220249b",
       "version_major": 2,
       "version_minor": 0
      },
      "text/plain": [
       "tokenizer.json: 0.00B [00:00, ?B/s]"
      ]
     },
     "metadata": {},
     "output_type": "display_data"
    },
    {
     "data": {
      "application/vnd.jupyter.widget-view+json": {
       "model_id": "a6ad15c9eb654d6a81bd0127e7577bda",
       "version_major": 2,
       "version_minor": 0
      },
      "text/plain": [
       "special_tokens_map.json:   0%|          | 0.00/112 [00:00<?, ?B/s]"
      ]
     },
     "metadata": {},
     "output_type": "display_data"
    },
    {
     "data": {
      "application/vnd.jupyter.widget-view+json": {
       "model_id": "4c3e4907043d43f18b0a28111660b3ff",
       "version_major": 2,
       "version_minor": 0
      },
      "text/plain": [
       "config.json:   0%|          | 0.00/190 [00:00<?, ?B/s]"
      ]
     },
     "metadata": {},
     "output_type": "display_data"
    },
    {
     "name": "stdout",
     "output_type": "stream",
     "text": [
      "\n",
      "[RetrieverAgent] Found top 2 similar version(s):\n",
      "\n",
      "Version Type: review\n",
      "Author: reviewer\n",
      "Timestamp: 2025-06-27T12:24:05.924264\n",
      "Content:\n",
      "## The Gates of Morning: Chapter 1 – The Canoe Builder\n",
      "\n",
      "Dick perched on a coral ledge, his gaze fixed on the southern horizon. Behind him, the ocean roared its defiance, a symphony of crashing waves and wind-whipped spray.  Before him, the tranquil azure lagoon of Karolin stretched, a vast, shimmering mirror reflecting the sky, patrolled only by graceful fishing gulls. This forty-mile-wide coral ring, this breathtaking expanse of water, was his—a startling fact for a man who had arrived only yesterday.\n",
      "\n",
      "The beach bustled with life: women, children, and youths—his people—toiled under the relentless sun, casting nets, playing games, and mending their paraka patches. His were the canoes beached on the sand, his the empty houses that once echoed with the rhythmic thump of war drums.\n",
      "\n",
      "But a frown creased his brow as his gaze shifted from the lagoon to the canoe houses. Turning his back on the placid water, he faced the relentless fury of the northern sea. Beyond the horizon, unseen yet ever-present, lay Palm Tree Island—a paradise veiled in sinister beauty, a place teeming with malevolent spirits.\n",
      "\n",
      "Little Tari, son of Le Taioi the net-maker, watched him from the coral.  A child who knew little of the world, Tari understood only that war had swept away Karolin's men, leaving the women and children defenseless and leaderless. Then, yesterday, a strange boat had arrived from the north, carrying Dick and Katafa, the girl lost to the sea years ago. The women whispered he was a godsend, their new chief.\n",
      "\n",
      "Innocent and curious, Tari blurted out a simple question, born of a child's unfiltered wonder: \"Taori,\" he asked, \"who are you?\"\n",
      "\n",
      "Could Dick have answered truthfully? Could the child have grasped the extraordinary tale of a man named Dick Lestrange, stranded as a boy on Palm Tree Island with an old sailor named Kearney? Kearney, who taught him to survive, to fish, to build small ships unlike the islanders' canoes.  A tale that ended with Katafa's arrival and their escape after Kearney's death, finally reaching Karolin.\n",
      "\n",
      "But the name \"Dick\" felt distant, a forgotten echo. His past, shrouded in the hazy mists of time and shipwreck, began only with Katafa. Kearney was a fading memory, swallowed by the sun-drenched intensity of the island, lost in the storms and rains. Only the little wooden ships remained, ghostly reminders of a life almost lost.\n",
      "\n",
      "He looked at the child. \"I am Taori, Tari,\" he said gently. \"Why do you ask?\"\n",
      "\n",
      "Tari's attention flickered, drawn to the shouts of children hauling in a net. \"I don't know,\" he said, and skipped away.\n",
      "\n",
      "Dick's gaze returned to the north. Tari's question had unlocked memories: the schooner, the Melanesian attackers, the desperate escape with Katafa in Kearney's old dinghy, their arrival on this very beach, and the welcoming yet fearful faces of the islanders. The memory of those men, those violent marauders, tainted the beauty of the sea and sky.\n",
      "\n",
      "There was no immediate threat. The Palm Tree men lacked canoes, but they would build them. They would see Karolin's lagoon shimmering on the horizon, as he had, and they would come. It might be a long time, but they would come.\n",
      "\n",
      "Dick, though seemingly a native, a \"kanaka,\" possessed something more: the ability to anticipate, strategize, and imagine. That's why he'd sent a canoe to fetch Aioma, Palia, and Tafata—aged but masterful canoe builders. That's why the sight of a hundred youths ripening into warriors had sparked a fire in his eyes. Underpinning all his plans, fueling his boldness, was his love for Katafa—his other self, threatened by the shadow of the past.\n",
      "\n",
      "War canoes. Would he defend Karolin, or launch a preemptive strike? The answer was lost in the currents of his thoughts.\n",
      "\n",
      "A hand touched his shoulder. Katafa stood before him, a stray lock of dark hair escaping its vine binding, fluttering like an eagle's feather in the breeze. Her luminous eyes were fixed on the north—on the very point he had been studying.\n",
      "\n",
      "\"Look,\" she breathed.\n",
      "\n",
      "Through the shimmering heat haze, Palm Tree materialized on the horizon, at first a faint smudge, then gradually resolving into a dreamlike vision of both beauty and menace.\n",
      "\n",
      "Shoulder to shoulder, they stood silent, awestruck by the mirage. They saw again the savage horde, felt the wind in their sails, and heard the bloodcurdling cries of the Melanesian raiders. The idyllic vision before them hid a brutal truth.\n",
      "\n",
      "Dick's nostrils flared, his eyes darkening with hatred. They had threatened him, but it was the threat to Katafa that ignited his fury. They *would* come. The image of Palm Tree was a prophecy, a stark reminder. They would build canoes, follow the shimmering beacon of the lagoon, and they would come for the women.\n",
      "\n",
      "He knew then that danger lurked not only in the north but wherever greed and hate held sway—not just among savages but among the wolves of civilization.\n",
      "\n",
      "His world was the ocean that cradled the two islands; his history, the brief, intertwined lives of himself and Katafa. Yet, even in that short span, he had learned to fear men, to recognize the primal instinct that drove history: war, pillage, and destruction.\n",
      "\n",
      "Then, as suddenly as it had appeared, Palm Tree vanished. Katafa pointed across the lagoon. A canoe approached from the south, carrying the canoe builders. Leaving the coral, Dick and Katafa walked towards the white sand to meet it.\n",
      "------------------------------------------------------------\n",
      "Version Type: rewrite\n",
      "Author: writer\n",
      "Timestamp: 2025-06-27T12:23:55.803568\n",
      "Content:\n",
      "## The Gates of Morning: Chapter 1 – The Canoe Builder\n",
      "\n",
      "Dick perched on a coral ledge, his gaze fixed on the southern horizon.  Behind him, the ocean roared its defiance, a symphony of crashing waves and wind-whipped spray. But before him, the lagoon of Karolin stretched, a mirror of tranquil azure, a vast, shimmering lake patrolled only by graceful fishing gulls.  This forty-mile-wide coral ring, this breathtaking expanse of water, was *his*.  He, a newcomer, a man who had arrived only yesterday.\n",
      "\n",
      "The beach bustled with life: women, children, youths – his people –  toiled under the relentless sun, casting nets, playing games, mending their paraka patches. His were the canoes beached on the sand, his the empty houses that once echoed with the rhythmic thump of war drums.\n",
      "\n",
      "But as his eyes shifted from the lagoon to the canoe houses, a frown creased his brow. Turning his back on the placid lagoon, he faced the relentless fury of the northern sea.  Beyond the horizon, unseen yet ever-present, lay Palm Tree Island – a paradise veiled in a sinister beauty, a place teeming with malevolent spirits.\n",
      "\n",
      "Little Tari, son of Le Taioi the net-maker, watched him from the coral. Tari, a child who knew little of the world, understood only that war had swept away Karolin's men, leaving the women and children defenseless, leaderless. Then, yesterday, a strange boat had arrived from the north, carrying *him* and Katafa, the girl lost to the sea years ago. The women whispered he was a godsend, their new chief.\n",
      "\n",
      "Tari, innocent and curious, blurted out his question, a simple query born of a child's unfiltered wonder:  \"Taori,\" he asked, \"who are you?\"\n",
      "\n",
      "Could Dick have answered truthfully? Could the child have grasped the extraordinary tale?  \"Tari,\" he might have said, \"I come from a world beyond your understanding. My name is Dick Lestrange, and as a child, I was stranded on that island you call Palm Tree with an old sailor named Kearney. He taught me to survive, to fish, to build tiny ships unlike your canoes. Then Katafa came, and we escaped the island after Kearney died, finally reaching Karolin.\"\n",
      "\n",
      "But the name 'Dick' felt distant, a forgotten echo.  His past, shrouded in the hazy mists of time and shipwreck, began only with Katafa. Kearney was a fading memory, swallowed by the sun-drenched intensity of the island, lost in the storms and rains.  Only the little wooden ships remained, ghostly reminders of a life almost lost.\n",
      "\n",
      "He looked at the child. \"I am Taori, Tari,\" he said gently. \"Why do you ask?\"\n",
      "\n",
      "Tari's attention flickered, drawn to the shouts of children hauling in a net. \"I don't know,\" he said, and skipped away.\n",
      "\n",
      "Dick's gaze returned to the north. Tari's question had unlocked memories: the schooner, the Melanesian attackers, the desperate escape with Katafa in Kearney's old dinghy, their arrival on this very beach, the welcoming yet fearful faces of the islanders. The memory of those men, those violent marauders, tainted the beauty of the sea and sky.\n",
      "\n",
      "There was no immediate threat. The Palm Tree men lacked canoes, but they *would* build them. They would see Karolin's lagoon shimmering on the horizon, just as he had, and they would come.  It might be a long time, but they would come.\n",
      "\n",
      "Dick, though seemingly a native, a \"kanaka,\" possessed something more.  He could anticipate, strategize, imagine.  That's why he'd sent a canoe to fetch Aioma, Palia, and Tafata – aged but masterful canoe builders. That's why the sight of a hundred youths ripening into warriors had sparked a fire in his eyes.  Underpinning all his plans, fueling his boldness, was his love for Katafa – his other self, threatened by the shadow of the past.\n",
      "\n",
      "War canoes.  Would he defend Karolin, or launch a preemptive strike? The answer was lost in the currents of his thoughts.\n",
      "\n",
      "A hand touched his shoulder. Katafa stood before him, a stray lock of dark hair escaping its vine binding, fluttering like an eagle's feather in the breeze. Her luminous eyes were fixed on the north – on the very point he had been studying.\n",
      "\n",
      "\"Look,\" she breathed.\n",
      "\n",
      "Through the shimmering heat haze, Palm Tree materialized on the horizon, a spectral island, at first a faint smudge, then gradually resolving into a dreamlike vision of beauty and menace.\n",
      "\n",
      "Shoulder to shoulder, they stood silent, their untutored minds awestruck by the mirage. They saw again the savage horde, felt the wind in their sails, heard the bloodcurdling cries of the Melanesian raiders.  The idyllic vision before them hid a brutal truth.\n",
      "\n",
      "Dick's nostrils flared, his eyes darkening with hatred.  They had threatened him, but it was the threat to Katafa that ignited his fury.  They *would* come.  The image of Palm Tree was a prophecy, a stark reminder. They would build canoes, follow the shimmering beacon of the lagoon, and they would come for the women.\n",
      "\n",
      "He knew then that danger lurked not only in the north, but wherever greed and hate held sway – not just among savages but amongst the wolves of civilization.\n",
      "\n",
      "His world was the ocean that cradled the two islands, his history the brief, intertwined lives of himself and Katafa. Yet, even in that short span, he had learned to fear men, to recognize the primal instinct that drove history – war, pillage, destruction.\n",
      "\n",
      "Then, as suddenly as it had appeared, Palm Tree vanished.  Katafa pointed across the lagoon. A canoe approached from the south. It carried the canoe builders, and leaving the coral, Dick and Katafa walked towards the white sand to meet it.\n",
      "------------------------------------------------------------\n"
     ]
    },
    {
     "data": {
      "text/plain": [
       "{'matched_versions': ['## The Gates of Morning: Chapter 1 – The Canoe Builder\\n\\nDick perched on a coral ledge, his gaze fixed on the southern horizon. Behind him, the ocean roared its defiance, a symphony of crashing waves and wind-whipped spray.  Before him, the tranquil azure lagoon of Karolin stretched, a vast, shimmering mirror reflecting the sky, patrolled only by graceful fishing gulls. This forty-mile-wide coral ring, this breathtaking expanse of water, was his—a startling fact for a man who had arrived only yesterday.\\n\\nThe beach bustled with life: women, children, and youths—his people—toiled under the relentless sun, casting nets, playing games, and mending their paraka patches. His were the canoes beached on the sand, his the empty houses that once echoed with the rhythmic thump of war drums.\\n\\nBut a frown creased his brow as his gaze shifted from the lagoon to the canoe houses. Turning his back on the placid water, he faced the relentless fury of the northern sea. Beyond the horizon, unseen yet ever-present, lay Palm Tree Island—a paradise veiled in sinister beauty, a place teeming with malevolent spirits.\\n\\nLittle Tari, son of Le Taioi the net-maker, watched him from the coral.  A child who knew little of the world, Tari understood only that war had swept away Karolin\\'s men, leaving the women and children defenseless and leaderless. Then, yesterday, a strange boat had arrived from the north, carrying Dick and Katafa, the girl lost to the sea years ago. The women whispered he was a godsend, their new chief.\\n\\nInnocent and curious, Tari blurted out a simple question, born of a child\\'s unfiltered wonder: \"Taori,\" he asked, \"who are you?\"\\n\\nCould Dick have answered truthfully? Could the child have grasped the extraordinary tale of a man named Dick Lestrange, stranded as a boy on Palm Tree Island with an old sailor named Kearney? Kearney, who taught him to survive, to fish, to build small ships unlike the islanders\\' canoes.  A tale that ended with Katafa\\'s arrival and their escape after Kearney\\'s death, finally reaching Karolin.\\n\\nBut the name \"Dick\" felt distant, a forgotten echo. His past, shrouded in the hazy mists of time and shipwreck, began only with Katafa. Kearney was a fading memory, swallowed by the sun-drenched intensity of the island, lost in the storms and rains. Only the little wooden ships remained, ghostly reminders of a life almost lost.\\n\\nHe looked at the child. \"I am Taori, Tari,\" he said gently. \"Why do you ask?\"\\n\\nTari\\'s attention flickered, drawn to the shouts of children hauling in a net. \"I don\\'t know,\" he said, and skipped away.\\n\\nDick\\'s gaze returned to the north. Tari\\'s question had unlocked memories: the schooner, the Melanesian attackers, the desperate escape with Katafa in Kearney\\'s old dinghy, their arrival on this very beach, and the welcoming yet fearful faces of the islanders. The memory of those men, those violent marauders, tainted the beauty of the sea and sky.\\n\\nThere was no immediate threat. The Palm Tree men lacked canoes, but they would build them. They would see Karolin\\'s lagoon shimmering on the horizon, as he had, and they would come. It might be a long time, but they would come.\\n\\nDick, though seemingly a native, a \"kanaka,\" possessed something more: the ability to anticipate, strategize, and imagine. That\\'s why he\\'d sent a canoe to fetch Aioma, Palia, and Tafata—aged but masterful canoe builders. That\\'s why the sight of a hundred youths ripening into warriors had sparked a fire in his eyes. Underpinning all his plans, fueling his boldness, was his love for Katafa—his other self, threatened by the shadow of the past.\\n\\nWar canoes. Would he defend Karolin, or launch a preemptive strike? The answer was lost in the currents of his thoughts.\\n\\nA hand touched his shoulder. Katafa stood before him, a stray lock of dark hair escaping its vine binding, fluttering like an eagle\\'s feather in the breeze. Her luminous eyes were fixed on the north—on the very point he had been studying.\\n\\n\"Look,\" she breathed.\\n\\nThrough the shimmering heat haze, Palm Tree materialized on the horizon, at first a faint smudge, then gradually resolving into a dreamlike vision of both beauty and menace.\\n\\nShoulder to shoulder, they stood silent, awestruck by the mirage. They saw again the savage horde, felt the wind in their sails, and heard the bloodcurdling cries of the Melanesian raiders. The idyllic vision before them hid a brutal truth.\\n\\nDick\\'s nostrils flared, his eyes darkening with hatred. They had threatened him, but it was the threat to Katafa that ignited his fury. They *would* come. The image of Palm Tree was a prophecy, a stark reminder. They would build canoes, follow the shimmering beacon of the lagoon, and they would come for the women.\\n\\nHe knew then that danger lurked not only in the north but wherever greed and hate held sway—not just among savages but among the wolves of civilization.\\n\\nHis world was the ocean that cradled the two islands; his history, the brief, intertwined lives of himself and Katafa. Yet, even in that short span, he had learned to fear men, to recognize the primal instinct that drove history: war, pillage, and destruction.\\n\\nThen, as suddenly as it had appeared, Palm Tree vanished. Katafa pointed across the lagoon. A canoe approached from the south, carrying the canoe builders. Leaving the coral, Dick and Katafa walked towards the white sand to meet it.',\n",
       "  '## The Gates of Morning: Chapter 1 – The Canoe Builder\\n\\nDick perched on a coral ledge, his gaze fixed on the southern horizon.  Behind him, the ocean roared its defiance, a symphony of crashing waves and wind-whipped spray. But before him, the lagoon of Karolin stretched, a mirror of tranquil azure, a vast, shimmering lake patrolled only by graceful fishing gulls.  This forty-mile-wide coral ring, this breathtaking expanse of water, was *his*.  He, a newcomer, a man who had arrived only yesterday.\\n\\nThe beach bustled with life: women, children, youths – his people –  toiled under the relentless sun, casting nets, playing games, mending their paraka patches. His were the canoes beached on the sand, his the empty houses that once echoed with the rhythmic thump of war drums.\\n\\nBut as his eyes shifted from the lagoon to the canoe houses, a frown creased his brow. Turning his back on the placid lagoon, he faced the relentless fury of the northern sea.  Beyond the horizon, unseen yet ever-present, lay Palm Tree Island – a paradise veiled in a sinister beauty, a place teeming with malevolent spirits.\\n\\nLittle Tari, son of Le Taioi the net-maker, watched him from the coral. Tari, a child who knew little of the world, understood only that war had swept away Karolin\\'s men, leaving the women and children defenseless, leaderless. Then, yesterday, a strange boat had arrived from the north, carrying *him* and Katafa, the girl lost to the sea years ago. The women whispered he was a godsend, their new chief.\\n\\nTari, innocent and curious, blurted out his question, a simple query born of a child\\'s unfiltered wonder:  \"Taori,\" he asked, \"who are you?\"\\n\\nCould Dick have answered truthfully? Could the child have grasped the extraordinary tale?  \"Tari,\" he might have said, \"I come from a world beyond your understanding. My name is Dick Lestrange, and as a child, I was stranded on that island you call Palm Tree with an old sailor named Kearney. He taught me to survive, to fish, to build tiny ships unlike your canoes. Then Katafa came, and we escaped the island after Kearney died, finally reaching Karolin.\"\\n\\nBut the name \\'Dick\\' felt distant, a forgotten echo.  His past, shrouded in the hazy mists of time and shipwreck, began only with Katafa. Kearney was a fading memory, swallowed by the sun-drenched intensity of the island, lost in the storms and rains.  Only the little wooden ships remained, ghostly reminders of a life almost lost.\\n\\nHe looked at the child. \"I am Taori, Tari,\" he said gently. \"Why do you ask?\"\\n\\nTari\\'s attention flickered, drawn to the shouts of children hauling in a net. \"I don\\'t know,\" he said, and skipped away.\\n\\nDick\\'s gaze returned to the north. Tari\\'s question had unlocked memories: the schooner, the Melanesian attackers, the desperate escape with Katafa in Kearney\\'s old dinghy, their arrival on this very beach, the welcoming yet fearful faces of the islanders. The memory of those men, those violent marauders, tainted the beauty of the sea and sky.\\n\\nThere was no immediate threat. The Palm Tree men lacked canoes, but they *would* build them. They would see Karolin\\'s lagoon shimmering on the horizon, just as he had, and they would come.  It might be a long time, but they would come.\\n\\nDick, though seemingly a native, a \"kanaka,\" possessed something more.  He could anticipate, strategize, imagine.  That\\'s why he\\'d sent a canoe to fetch Aioma, Palia, and Tafata – aged but masterful canoe builders. That\\'s why the sight of a hundred youths ripening into warriors had sparked a fire in his eyes.  Underpinning all his plans, fueling his boldness, was his love for Katafa – his other self, threatened by the shadow of the past.\\n\\nWar canoes.  Would he defend Karolin, or launch a preemptive strike? The answer was lost in the currents of his thoughts.\\n\\nA hand touched his shoulder. Katafa stood before him, a stray lock of dark hair escaping its vine binding, fluttering like an eagle\\'s feather in the breeze. Her luminous eyes were fixed on the north – on the very point he had been studying.\\n\\n\"Look,\" she breathed.\\n\\nThrough the shimmering heat haze, Palm Tree materialized on the horizon, a spectral island, at first a faint smudge, then gradually resolving into a dreamlike vision of beauty and menace.\\n\\nShoulder to shoulder, they stood silent, their untutored minds awestruck by the mirage. They saw again the savage horde, felt the wind in their sails, heard the bloodcurdling cries of the Melanesian raiders.  The idyllic vision before them hid a brutal truth.\\n\\nDick\\'s nostrils flared, his eyes darkening with hatred.  They had threatened him, but it was the threat to Katafa that ignited his fury.  They *would* come.  The image of Palm Tree was a prophecy, a stark reminder. They would build canoes, follow the shimmering beacon of the lagoon, and they would come for the women.\\n\\nHe knew then that danger lurked not only in the north, but wherever greed and hate held sway – not just among savages but amongst the wolves of civilization.\\n\\nHis world was the ocean that cradled the two islands, his history the brief, intertwined lives of himself and Katafa. Yet, even in that short span, he had learned to fear men, to recognize the primal instinct that drove history – war, pillage, destruction.\\n\\nThen, as suddenly as it had appeared, Palm Tree vanished.  Katafa pointed across the lagoon. A canoe approached from the south. It carried the canoe builders, and leaving the coral, Dick and Katafa walked towards the white sand to meet it.'],\n",
       " 'metadata': [{'author': 'reviewer',\n",
       "   'chapter_id': 'chapter1',\n",
       "   'timestamp': '2025-06-27T12:24:05.924264',\n",
       "   'version_type': 'review'},\n",
       "  {'author': 'writer',\n",
       "   'chapter_id': 'chapter1',\n",
       "   'timestamp': '2025-06-27T12:23:55.803568',\n",
       "   'version_type': 'rewrite'}]}"
      ]
     },
     "execution_count": 2,
     "metadata": {},
     "output_type": "execute_result"
    }
   ],
   "source": [
    "# test retriever\n",
    "\n",
    "from agents.retriever_agent import RetrieverAgent\n",
    "\n",
    "agent = RetrieverAgent()\n",
    "agent.retrieve_similar(\"Polynesia and the Pacific Ocean voyage\")\n"
   ]
  },
  {
   "cell_type": "code",
   "execution_count": null,
   "id": "f0568620",
   "metadata": {},
   "outputs": [],
   "source": []
  }
 ],
 "metadata": {
  "kernelspec": {
   "display_name": "base",
   "language": "python",
   "name": "python3"
  },
  "language_info": {
   "codemirror_mode": {
    "name": "ipython",
    "version": 3
   },
   "file_extension": ".py",
   "mimetype": "text/x-python",
   "name": "python",
   "nbconvert_exporter": "python",
   "pygments_lexer": "ipython3",
   "version": "3.12.7"
  }
 },
 "nbformat": 4,
 "nbformat_minor": 5
}
